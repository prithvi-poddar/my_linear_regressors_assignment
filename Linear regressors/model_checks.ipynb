{
 "cells": [
  {
   "cell_type": "code",
   "execution_count": 2,
   "metadata": {},
   "outputs": [],
   "source": [
    "import numpy as np\n",
    "import matplotlib.pyplot as plt\n",
    "import pandas as pd\n",
    "from CsvModifier import (TrainCsvModifier, TestCsvModifier)\n",
    "from regressors import LinearRegression\n",
    "from polynomial import PolynomialFeature"
   ]
  },
  {
   "cell_type": "code",
   "execution_count": 3,
   "metadata": {},
   "outputs": [],
   "source": [
    "path_train= 'train.csv'\n",
    "new_train = TrainCsvModifier(path_train)\n",
    "new_train.create_new_csv()"
   ]
  },
  {
   "cell_type": "code",
   "execution_count": 4,
   "metadata": {},
   "outputs": [],
   "source": [
    "path_predict = 'test.csv'\n",
    "new_predict = TestCsvModifier(path_predict)\n",
    "new_predict.create_new_csv()"
   ]
  },
  {
   "cell_type": "code",
   "execution_count": 5,
   "metadata": {},
   "outputs": [],
   "source": [
    "data = pd.read_csv('train_new.csv')\n",
    "\n",
    "X = data.iloc[:,:2].to_numpy()\n",
    "y = data.iloc[:,-1:].to_numpy()\n",
    "y = np.reshape(y, (110))"
   ]
  },
  {
   "cell_type": "markdown",
   "metadata": {},
   "source": [
    "# Linear regression linear basis"
   ]
  },
  {
   "cell_type": "code",
   "execution_count": 6,
   "metadata": {},
   "outputs": [],
   "source": [
    "n = 100\n",
    "X_train = X[:n,:]\n",
    "X_train = np.c_[np.ones(len(X_train),dtype='int64'),X_train]\n",
    "y_train = y[:n]\n",
    "X_test = X[n:,:]\n",
    "X_test = np.c_[np.ones(len(X_test),dtype='int64'),X_test]\n",
    "y_test = y[n:]"
   ]
  },
  {
   "cell_type": "code",
   "execution_count": 7,
   "metadata": {},
   "outputs": [
    {
     "name": "stdout",
     "output_type": "stream",
     "text": [
      "Linear Regression errors-\n",
      "Training set error: 85.17021930907777\n",
      "Test set error: 86.90627952371993\n"
     ]
    }
   ],
   "source": [
    "regressor = LinearRegression()\n",
    "train_error, test_error = regressor.fit(X_train,y_train,X_test,y_test)\n",
    "errors = {\"Linear regression_linear basis\":[train_error,test_error]}"
   ]
  },
  {
   "cell_type": "code",
   "execution_count": null,
   "metadata": {},
   "outputs": [],
   "source": []
  }
 ],
 "metadata": {
  "kernelspec": {
   "display_name": "Python 3",
   "language": "python",
   "name": "python3"
  },
  "language_info": {
   "codemirror_mode": {
    "name": "ipython",
    "version": 3
   },
   "file_extension": ".py",
   "mimetype": "text/x-python",
   "name": "python",
   "nbconvert_exporter": "python",
   "pygments_lexer": "ipython3",
   "version": "3.7.4"
  }
 },
 "nbformat": 4,
 "nbformat_minor": 2
}
