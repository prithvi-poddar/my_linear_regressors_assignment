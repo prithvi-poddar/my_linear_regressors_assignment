{
  "nbformat": 4,
  "nbformat_minor": 0,
  "metadata": {
    "colab": {
      "name": "Prithvi_Poddar_17191_report_2_CNN.ipynb",
      "provenance": [],
      "authorship_tag": "ABX9TyPm0nma3bVjzNZ2fuMG5ZI6",
      "include_colab_link": true
    },
    "kernelspec": {
      "name": "python3",
      "display_name": "Python 3"
    },
    "accelerator": "GPU",
    "widgets": {
      "application/vnd.jupyter.widget-state+json": {
        "d26984bb755043a385ba048166ab90e8": {
          "model_module": "@jupyter-widgets/controls",
          "model_name": "HBoxModel",
          "state": {
            "_view_name": "HBoxView",
            "_dom_classes": [],
            "_model_name": "HBoxModel",
            "_view_module": "@jupyter-widgets/controls",
            "_model_module_version": "1.5.0",
            "_view_count": null,
            "_view_module_version": "1.5.0",
            "box_style": "",
            "layout": "IPY_MODEL_a70e7f1d38344f618a84fa180eacabb6",
            "_model_module": "@jupyter-widgets/controls",
            "children": [
              "IPY_MODEL_8dcb2d9a9dfb4c6db3870e8fb338e46d",
              "IPY_MODEL_ea5c8b1cea794926bc8b1c1e048aec43"
            ]
          }
        },
        "a70e7f1d38344f618a84fa180eacabb6": {
          "model_module": "@jupyter-widgets/base",
          "model_name": "LayoutModel",
          "state": {
            "_view_name": "LayoutView",
            "grid_template_rows": null,
            "right": null,
            "justify_content": null,
            "_view_module": "@jupyter-widgets/base",
            "overflow": null,
            "_model_module_version": "1.2.0",
            "_view_count": null,
            "flex_flow": null,
            "width": null,
            "min_width": null,
            "border": null,
            "align_items": null,
            "bottom": null,
            "_model_module": "@jupyter-widgets/base",
            "top": null,
            "grid_column": null,
            "overflow_y": null,
            "overflow_x": null,
            "grid_auto_flow": null,
            "grid_area": null,
            "grid_template_columns": null,
            "flex": null,
            "_model_name": "LayoutModel",
            "justify_items": null,
            "grid_row": null,
            "max_height": null,
            "align_content": null,
            "visibility": null,
            "align_self": null,
            "height": null,
            "min_height": null,
            "padding": null,
            "grid_auto_rows": null,
            "grid_gap": null,
            "max_width": null,
            "order": null,
            "_view_module_version": "1.2.0",
            "grid_template_areas": null,
            "object_position": null,
            "object_fit": null,
            "grid_auto_columns": null,
            "margin": null,
            "display": null,
            "left": null
          }
        },
        "8dcb2d9a9dfb4c6db3870e8fb338e46d": {
          "model_module": "@jupyter-widgets/controls",
          "model_name": "FloatProgressModel",
          "state": {
            "_view_name": "ProgressView",
            "style": "IPY_MODEL_0be12e87c10b426c810b69c8562f90d8",
            "_dom_classes": [],
            "description": "",
            "_model_name": "FloatProgressModel",
            "bar_style": "info",
            "max": 1,
            "_view_module": "@jupyter-widgets/controls",
            "_model_module_version": "1.5.0",
            "value": 1,
            "_view_count": null,
            "_view_module_version": "1.5.0",
            "orientation": "horizontal",
            "min": 0,
            "description_tooltip": null,
            "_model_module": "@jupyter-widgets/controls",
            "layout": "IPY_MODEL_17a38d47cfa1406cafebec461638ed64"
          }
        },
        "ea5c8b1cea794926bc8b1c1e048aec43": {
          "model_module": "@jupyter-widgets/controls",
          "model_name": "HTMLModel",
          "state": {
            "_view_name": "HTMLView",
            "style": "IPY_MODEL_9ae4b723f7564903a84139a7c3b395b2",
            "_dom_classes": [],
            "description": "",
            "_model_name": "HTMLModel",
            "placeholder": "​",
            "_view_module": "@jupyter-widgets/controls",
            "_model_module_version": "1.5.0",
            "value": " 9920512/? [00:20&lt;00:00, 9814918.17it/s]",
            "_view_count": null,
            "_view_module_version": "1.5.0",
            "description_tooltip": null,
            "_model_module": "@jupyter-widgets/controls",
            "layout": "IPY_MODEL_1df3b0b4080948af9e6f6d3ff8aa04e9"
          }
        },
        "0be12e87c10b426c810b69c8562f90d8": {
          "model_module": "@jupyter-widgets/controls",
          "model_name": "ProgressStyleModel",
          "state": {
            "_view_name": "StyleView",
            "_model_name": "ProgressStyleModel",
            "description_width": "initial",
            "_view_module": "@jupyter-widgets/base",
            "_model_module_version": "1.5.0",
            "_view_count": null,
            "_view_module_version": "1.2.0",
            "bar_color": null,
            "_model_module": "@jupyter-widgets/controls"
          }
        },
        "17a38d47cfa1406cafebec461638ed64": {
          "model_module": "@jupyter-widgets/base",
          "model_name": "LayoutModel",
          "state": {
            "_view_name": "LayoutView",
            "grid_template_rows": null,
            "right": null,
            "justify_content": null,
            "_view_module": "@jupyter-widgets/base",
            "overflow": null,
            "_model_module_version": "1.2.0",
            "_view_count": null,
            "flex_flow": null,
            "width": null,
            "min_width": null,
            "border": null,
            "align_items": null,
            "bottom": null,
            "_model_module": "@jupyter-widgets/base",
            "top": null,
            "grid_column": null,
            "overflow_y": null,
            "overflow_x": null,
            "grid_auto_flow": null,
            "grid_area": null,
            "grid_template_columns": null,
            "flex": null,
            "_model_name": "LayoutModel",
            "justify_items": null,
            "grid_row": null,
            "max_height": null,
            "align_content": null,
            "visibility": null,
            "align_self": null,
            "height": null,
            "min_height": null,
            "padding": null,
            "grid_auto_rows": null,
            "grid_gap": null,
            "max_width": null,
            "order": null,
            "_view_module_version": "1.2.0",
            "grid_template_areas": null,
            "object_position": null,
            "object_fit": null,
            "grid_auto_columns": null,
            "margin": null,
            "display": null,
            "left": null
          }
        },
        "9ae4b723f7564903a84139a7c3b395b2": {
          "model_module": "@jupyter-widgets/controls",
          "model_name": "DescriptionStyleModel",
          "state": {
            "_view_name": "StyleView",
            "_model_name": "DescriptionStyleModel",
            "description_width": "",
            "_view_module": "@jupyter-widgets/base",
            "_model_module_version": "1.5.0",
            "_view_count": null,
            "_view_module_version": "1.2.0",
            "_model_module": "@jupyter-widgets/controls"
          }
        },
        "1df3b0b4080948af9e6f6d3ff8aa04e9": {
          "model_module": "@jupyter-widgets/base",
          "model_name": "LayoutModel",
          "state": {
            "_view_name": "LayoutView",
            "grid_template_rows": null,
            "right": null,
            "justify_content": null,
            "_view_module": "@jupyter-widgets/base",
            "overflow": null,
            "_model_module_version": "1.2.0",
            "_view_count": null,
            "flex_flow": null,
            "width": null,
            "min_width": null,
            "border": null,
            "align_items": null,
            "bottom": null,
            "_model_module": "@jupyter-widgets/base",
            "top": null,
            "grid_column": null,
            "overflow_y": null,
            "overflow_x": null,
            "grid_auto_flow": null,
            "grid_area": null,
            "grid_template_columns": null,
            "flex": null,
            "_model_name": "LayoutModel",
            "justify_items": null,
            "grid_row": null,
            "max_height": null,
            "align_content": null,
            "visibility": null,
            "align_self": null,
            "height": null,
            "min_height": null,
            "padding": null,
            "grid_auto_rows": null,
            "grid_gap": null,
            "max_width": null,
            "order": null,
            "_view_module_version": "1.2.0",
            "grid_template_areas": null,
            "object_position": null,
            "object_fit": null,
            "grid_auto_columns": null,
            "margin": null,
            "display": null,
            "left": null
          }
        },
        "9788e1607fe641a6b1ac84e1c8d5b51a": {
          "model_module": "@jupyter-widgets/controls",
          "model_name": "HBoxModel",
          "state": {
            "_view_name": "HBoxView",
            "_dom_classes": [],
            "_model_name": "HBoxModel",
            "_view_module": "@jupyter-widgets/controls",
            "_model_module_version": "1.5.0",
            "_view_count": null,
            "_view_module_version": "1.5.0",
            "box_style": "",
            "layout": "IPY_MODEL_11bd6510d41942f395409a3dcf5d8438",
            "_model_module": "@jupyter-widgets/controls",
            "children": [
              "IPY_MODEL_2adbaa8ae0434dff9ce112e513295452",
              "IPY_MODEL_ccef30e072724c808937c43691d43e77"
            ]
          }
        },
        "11bd6510d41942f395409a3dcf5d8438": {
          "model_module": "@jupyter-widgets/base",
          "model_name": "LayoutModel",
          "state": {
            "_view_name": "LayoutView",
            "grid_template_rows": null,
            "right": null,
            "justify_content": null,
            "_view_module": "@jupyter-widgets/base",
            "overflow": null,
            "_model_module_version": "1.2.0",
            "_view_count": null,
            "flex_flow": null,
            "width": null,
            "min_width": null,
            "border": null,
            "align_items": null,
            "bottom": null,
            "_model_module": "@jupyter-widgets/base",
            "top": null,
            "grid_column": null,
            "overflow_y": null,
            "overflow_x": null,
            "grid_auto_flow": null,
            "grid_area": null,
            "grid_template_columns": null,
            "flex": null,
            "_model_name": "LayoutModel",
            "justify_items": null,
            "grid_row": null,
            "max_height": null,
            "align_content": null,
            "visibility": null,
            "align_self": null,
            "height": null,
            "min_height": null,
            "padding": null,
            "grid_auto_rows": null,
            "grid_gap": null,
            "max_width": null,
            "order": null,
            "_view_module_version": "1.2.0",
            "grid_template_areas": null,
            "object_position": null,
            "object_fit": null,
            "grid_auto_columns": null,
            "margin": null,
            "display": null,
            "left": null
          }
        },
        "2adbaa8ae0434dff9ce112e513295452": {
          "model_module": "@jupyter-widgets/controls",
          "model_name": "FloatProgressModel",
          "state": {
            "_view_name": "ProgressView",
            "style": "IPY_MODEL_f3efb2e59f114189939b3307680d15c6",
            "_dom_classes": [],
            "description": "",
            "_model_name": "FloatProgressModel",
            "bar_style": "info",
            "max": 1,
            "_view_module": "@jupyter-widgets/controls",
            "_model_module_version": "1.5.0",
            "value": 0,
            "_view_count": null,
            "_view_module_version": "1.5.0",
            "orientation": "horizontal",
            "min": 0,
            "description_tooltip": null,
            "_model_module": "@jupyter-widgets/controls",
            "layout": "IPY_MODEL_d59042d9299c41968cf45a58aa9124d1"
          }
        },
        "ccef30e072724c808937c43691d43e77": {
          "model_module": "@jupyter-widgets/controls",
          "model_name": "HTMLModel",
          "state": {
            "_view_name": "HTMLView",
            "style": "IPY_MODEL_09d96bd9f3e74cfd89f6609b14881354",
            "_dom_classes": [],
            "description": "",
            "_model_name": "HTMLModel",
            "placeholder": "​",
            "_view_module": "@jupyter-widgets/controls",
            "_model_module_version": "1.5.0",
            "value": " 0/? [00:00&lt;?, ?it/s]",
            "_view_count": null,
            "_view_module_version": "1.5.0",
            "description_tooltip": null,
            "_model_module": "@jupyter-widgets/controls",
            "layout": "IPY_MODEL_e5977de8d1944c0d894edbc5caf4bf94"
          }
        },
        "f3efb2e59f114189939b3307680d15c6": {
          "model_module": "@jupyter-widgets/controls",
          "model_name": "ProgressStyleModel",
          "state": {
            "_view_name": "StyleView",
            "_model_name": "ProgressStyleModel",
            "description_width": "initial",
            "_view_module": "@jupyter-widgets/base",
            "_model_module_version": "1.5.0",
            "_view_count": null,
            "_view_module_version": "1.2.0",
            "bar_color": null,
            "_model_module": "@jupyter-widgets/controls"
          }
        },
        "d59042d9299c41968cf45a58aa9124d1": {
          "model_module": "@jupyter-widgets/base",
          "model_name": "LayoutModel",
          "state": {
            "_view_name": "LayoutView",
            "grid_template_rows": null,
            "right": null,
            "justify_content": null,
            "_view_module": "@jupyter-widgets/base",
            "overflow": null,
            "_model_module_version": "1.2.0",
            "_view_count": null,
            "flex_flow": null,
            "width": null,
            "min_width": null,
            "border": null,
            "align_items": null,
            "bottom": null,
            "_model_module": "@jupyter-widgets/base",
            "top": null,
            "grid_column": null,
            "overflow_y": null,
            "overflow_x": null,
            "grid_auto_flow": null,
            "grid_area": null,
            "grid_template_columns": null,
            "flex": null,
            "_model_name": "LayoutModel",
            "justify_items": null,
            "grid_row": null,
            "max_height": null,
            "align_content": null,
            "visibility": null,
            "align_self": null,
            "height": null,
            "min_height": null,
            "padding": null,
            "grid_auto_rows": null,
            "grid_gap": null,
            "max_width": null,
            "order": null,
            "_view_module_version": "1.2.0",
            "grid_template_areas": null,
            "object_position": null,
            "object_fit": null,
            "grid_auto_columns": null,
            "margin": null,
            "display": null,
            "left": null
          }
        },
        "09d96bd9f3e74cfd89f6609b14881354": {
          "model_module": "@jupyter-widgets/controls",
          "model_name": "DescriptionStyleModel",
          "state": {
            "_view_name": "StyleView",
            "_model_name": "DescriptionStyleModel",
            "description_width": "",
            "_view_module": "@jupyter-widgets/base",
            "_model_module_version": "1.5.0",
            "_view_count": null,
            "_view_module_version": "1.2.0",
            "_model_module": "@jupyter-widgets/controls"
          }
        },
        "e5977de8d1944c0d894edbc5caf4bf94": {
          "model_module": "@jupyter-widgets/base",
          "model_name": "LayoutModel",
          "state": {
            "_view_name": "LayoutView",
            "grid_template_rows": null,
            "right": null,
            "justify_content": null,
            "_view_module": "@jupyter-widgets/base",
            "overflow": null,
            "_model_module_version": "1.2.0",
            "_view_count": null,
            "flex_flow": null,
            "width": null,
            "min_width": null,
            "border": null,
            "align_items": null,
            "bottom": null,
            "_model_module": "@jupyter-widgets/base",
            "top": null,
            "grid_column": null,
            "overflow_y": null,
            "overflow_x": null,
            "grid_auto_flow": null,
            "grid_area": null,
            "grid_template_columns": null,
            "flex": null,
            "_model_name": "LayoutModel",
            "justify_items": null,
            "grid_row": null,
            "max_height": null,
            "align_content": null,
            "visibility": null,
            "align_self": null,
            "height": null,
            "min_height": null,
            "padding": null,
            "grid_auto_rows": null,
            "grid_gap": null,
            "max_width": null,
            "order": null,
            "_view_module_version": "1.2.0",
            "grid_template_areas": null,
            "object_position": null,
            "object_fit": null,
            "grid_auto_columns": null,
            "margin": null,
            "display": null,
            "left": null
          }
        },
        "ab5b22f8e840470297fb6ab1af38bbc4": {
          "model_module": "@jupyter-widgets/controls",
          "model_name": "HBoxModel",
          "state": {
            "_view_name": "HBoxView",
            "_dom_classes": [],
            "_model_name": "HBoxModel",
            "_view_module": "@jupyter-widgets/controls",
            "_model_module_version": "1.5.0",
            "_view_count": null,
            "_view_module_version": "1.5.0",
            "box_style": "",
            "layout": "IPY_MODEL_fd4f5bc934d64772afd26709cfa9648e",
            "_model_module": "@jupyter-widgets/controls",
            "children": [
              "IPY_MODEL_13fa7a12ed01432d8c91637fb9af4fa5",
              "IPY_MODEL_fc8eafbca2544d2f8ee9eb8ab44c8483"
            ]
          }
        },
        "fd4f5bc934d64772afd26709cfa9648e": {
          "model_module": "@jupyter-widgets/base",
          "model_name": "LayoutModel",
          "state": {
            "_view_name": "LayoutView",
            "grid_template_rows": null,
            "right": null,
            "justify_content": null,
            "_view_module": "@jupyter-widgets/base",
            "overflow": null,
            "_model_module_version": "1.2.0",
            "_view_count": null,
            "flex_flow": null,
            "width": null,
            "min_width": null,
            "border": null,
            "align_items": null,
            "bottom": null,
            "_model_module": "@jupyter-widgets/base",
            "top": null,
            "grid_column": null,
            "overflow_y": null,
            "overflow_x": null,
            "grid_auto_flow": null,
            "grid_area": null,
            "grid_template_columns": null,
            "flex": null,
            "_model_name": "LayoutModel",
            "justify_items": null,
            "grid_row": null,
            "max_height": null,
            "align_content": null,
            "visibility": null,
            "align_self": null,
            "height": null,
            "min_height": null,
            "padding": null,
            "grid_auto_rows": null,
            "grid_gap": null,
            "max_width": null,
            "order": null,
            "_view_module_version": "1.2.0",
            "grid_template_areas": null,
            "object_position": null,
            "object_fit": null,
            "grid_auto_columns": null,
            "margin": null,
            "display": null,
            "left": null
          }
        },
        "13fa7a12ed01432d8c91637fb9af4fa5": {
          "model_module": "@jupyter-widgets/controls",
          "model_name": "FloatProgressModel",
          "state": {
            "_view_name": "ProgressView",
            "style": "IPY_MODEL_f4056f37ef9c4134ac8a209afd738b9e",
            "_dom_classes": [],
            "description": "",
            "_model_name": "FloatProgressModel",
            "bar_style": "info",
            "max": 1,
            "_view_module": "@jupyter-widgets/controls",
            "_model_module_version": "1.5.0",
            "value": 1,
            "_view_count": null,
            "_view_module_version": "1.5.0",
            "orientation": "horizontal",
            "min": 0,
            "description_tooltip": null,
            "_model_module": "@jupyter-widgets/controls",
            "layout": "IPY_MODEL_94ad94b7ab154d9c9e05673600af9187"
          }
        },
        "fc8eafbca2544d2f8ee9eb8ab44c8483": {
          "model_module": "@jupyter-widgets/controls",
          "model_name": "HTMLModel",
          "state": {
            "_view_name": "HTMLView",
            "style": "IPY_MODEL_3892c1d0a01d4d328e96312256e2618f",
            "_dom_classes": [],
            "description": "",
            "_model_name": "HTMLModel",
            "placeholder": "​",
            "_view_module": "@jupyter-widgets/controls",
            "_model_module_version": "1.5.0",
            "value": " 1654784/? [00:19&lt;00:00, 121057.67it/s]",
            "_view_count": null,
            "_view_module_version": "1.5.0",
            "description_tooltip": null,
            "_model_module": "@jupyter-widgets/controls",
            "layout": "IPY_MODEL_5acf5f2a295e4513988e8c9784629ed6"
          }
        },
        "f4056f37ef9c4134ac8a209afd738b9e": {
          "model_module": "@jupyter-widgets/controls",
          "model_name": "ProgressStyleModel",
          "state": {
            "_view_name": "StyleView",
            "_model_name": "ProgressStyleModel",
            "description_width": "initial",
            "_view_module": "@jupyter-widgets/base",
            "_model_module_version": "1.5.0",
            "_view_count": null,
            "_view_module_version": "1.2.0",
            "bar_color": null,
            "_model_module": "@jupyter-widgets/controls"
          }
        },
        "94ad94b7ab154d9c9e05673600af9187": {
          "model_module": "@jupyter-widgets/base",
          "model_name": "LayoutModel",
          "state": {
            "_view_name": "LayoutView",
            "grid_template_rows": null,
            "right": null,
            "justify_content": null,
            "_view_module": "@jupyter-widgets/base",
            "overflow": null,
            "_model_module_version": "1.2.0",
            "_view_count": null,
            "flex_flow": null,
            "width": null,
            "min_width": null,
            "border": null,
            "align_items": null,
            "bottom": null,
            "_model_module": "@jupyter-widgets/base",
            "top": null,
            "grid_column": null,
            "overflow_y": null,
            "overflow_x": null,
            "grid_auto_flow": null,
            "grid_area": null,
            "grid_template_columns": null,
            "flex": null,
            "_model_name": "LayoutModel",
            "justify_items": null,
            "grid_row": null,
            "max_height": null,
            "align_content": null,
            "visibility": null,
            "align_self": null,
            "height": null,
            "min_height": null,
            "padding": null,
            "grid_auto_rows": null,
            "grid_gap": null,
            "max_width": null,
            "order": null,
            "_view_module_version": "1.2.0",
            "grid_template_areas": null,
            "object_position": null,
            "object_fit": null,
            "grid_auto_columns": null,
            "margin": null,
            "display": null,
            "left": null
          }
        },
        "3892c1d0a01d4d328e96312256e2618f": {
          "model_module": "@jupyter-widgets/controls",
          "model_name": "DescriptionStyleModel",
          "state": {
            "_view_name": "StyleView",
            "_model_name": "DescriptionStyleModel",
            "description_width": "",
            "_view_module": "@jupyter-widgets/base",
            "_model_module_version": "1.5.0",
            "_view_count": null,
            "_view_module_version": "1.2.0",
            "_model_module": "@jupyter-widgets/controls"
          }
        },
        "5acf5f2a295e4513988e8c9784629ed6": {
          "model_module": "@jupyter-widgets/base",
          "model_name": "LayoutModel",
          "state": {
            "_view_name": "LayoutView",
            "grid_template_rows": null,
            "right": null,
            "justify_content": null,
            "_view_module": "@jupyter-widgets/base",
            "overflow": null,
            "_model_module_version": "1.2.0",
            "_view_count": null,
            "flex_flow": null,
            "width": null,
            "min_width": null,
            "border": null,
            "align_items": null,
            "bottom": null,
            "_model_module": "@jupyter-widgets/base",
            "top": null,
            "grid_column": null,
            "overflow_y": null,
            "overflow_x": null,
            "grid_auto_flow": null,
            "grid_area": null,
            "grid_template_columns": null,
            "flex": null,
            "_model_name": "LayoutModel",
            "justify_items": null,
            "grid_row": null,
            "max_height": null,
            "align_content": null,
            "visibility": null,
            "align_self": null,
            "height": null,
            "min_height": null,
            "padding": null,
            "grid_auto_rows": null,
            "grid_gap": null,
            "max_width": null,
            "order": null,
            "_view_module_version": "1.2.0",
            "grid_template_areas": null,
            "object_position": null,
            "object_fit": null,
            "grid_auto_columns": null,
            "margin": null,
            "display": null,
            "left": null
          }
        },
        "afe006bfc42e4272b5d068cf4f34e3d6": {
          "model_module": "@jupyter-widgets/controls",
          "model_name": "HBoxModel",
          "state": {
            "_view_name": "HBoxView",
            "_dom_classes": [],
            "_model_name": "HBoxModel",
            "_view_module": "@jupyter-widgets/controls",
            "_model_module_version": "1.5.0",
            "_view_count": null,
            "_view_module_version": "1.5.0",
            "box_style": "",
            "layout": "IPY_MODEL_e9108dbd716b4a92b6b2b0497f3d70cf",
            "_model_module": "@jupyter-widgets/controls",
            "children": [
              "IPY_MODEL_f20e9d755058460bbdb7aae3b784ce89",
              "IPY_MODEL_0638b4deb4654c3aa953921e4cc12c19"
            ]
          }
        },
        "e9108dbd716b4a92b6b2b0497f3d70cf": {
          "model_module": "@jupyter-widgets/base",
          "model_name": "LayoutModel",
          "state": {
            "_view_name": "LayoutView",
            "grid_template_rows": null,
            "right": null,
            "justify_content": null,
            "_view_module": "@jupyter-widgets/base",
            "overflow": null,
            "_model_module_version": "1.2.0",
            "_view_count": null,
            "flex_flow": null,
            "width": null,
            "min_width": null,
            "border": null,
            "align_items": null,
            "bottom": null,
            "_model_module": "@jupyter-widgets/base",
            "top": null,
            "grid_column": null,
            "overflow_y": null,
            "overflow_x": null,
            "grid_auto_flow": null,
            "grid_area": null,
            "grid_template_columns": null,
            "flex": null,
            "_model_name": "LayoutModel",
            "justify_items": null,
            "grid_row": null,
            "max_height": null,
            "align_content": null,
            "visibility": null,
            "align_self": null,
            "height": null,
            "min_height": null,
            "padding": null,
            "grid_auto_rows": null,
            "grid_gap": null,
            "max_width": null,
            "order": null,
            "_view_module_version": "1.2.0",
            "grid_template_areas": null,
            "object_position": null,
            "object_fit": null,
            "grid_auto_columns": null,
            "margin": null,
            "display": null,
            "left": null
          }
        },
        "f20e9d755058460bbdb7aae3b784ce89": {
          "model_module": "@jupyter-widgets/controls",
          "model_name": "FloatProgressModel",
          "state": {
            "_view_name": "ProgressView",
            "style": "IPY_MODEL_2fba86f14d73477d828adbf5205f6fb6",
            "_dom_classes": [],
            "description": "",
            "_model_name": "FloatProgressModel",
            "bar_style": "info",
            "max": 1,
            "_view_module": "@jupyter-widgets/controls",
            "_model_module_version": "1.5.0",
            "value": 0,
            "_view_count": null,
            "_view_module_version": "1.5.0",
            "orientation": "horizontal",
            "min": 0,
            "description_tooltip": null,
            "_model_module": "@jupyter-widgets/controls",
            "layout": "IPY_MODEL_b03c9d6e19184f1f8307003837ac1935"
          }
        },
        "0638b4deb4654c3aa953921e4cc12c19": {
          "model_module": "@jupyter-widgets/controls",
          "model_name": "HTMLModel",
          "state": {
            "_view_name": "HTMLView",
            "style": "IPY_MODEL_8ddf0c63f3cc4f99b793fc2e414b0f0a",
            "_dom_classes": [],
            "description": "",
            "_model_name": "HTMLModel",
            "placeholder": "​",
            "_view_module": "@jupyter-widgets/controls",
            "_model_module_version": "1.5.0",
            "value": " 0/? [00:00&lt;?, ?it/s]",
            "_view_count": null,
            "_view_module_version": "1.5.0",
            "description_tooltip": null,
            "_model_module": "@jupyter-widgets/controls",
            "layout": "IPY_MODEL_7a845223c1ad40ac90d7392efa07bd6a"
          }
        },
        "2fba86f14d73477d828adbf5205f6fb6": {
          "model_module": "@jupyter-widgets/controls",
          "model_name": "ProgressStyleModel",
          "state": {
            "_view_name": "StyleView",
            "_model_name": "ProgressStyleModel",
            "description_width": "initial",
            "_view_module": "@jupyter-widgets/base",
            "_model_module_version": "1.5.0",
            "_view_count": null,
            "_view_module_version": "1.2.0",
            "bar_color": null,
            "_model_module": "@jupyter-widgets/controls"
          }
        },
        "b03c9d6e19184f1f8307003837ac1935": {
          "model_module": "@jupyter-widgets/base",
          "model_name": "LayoutModel",
          "state": {
            "_view_name": "LayoutView",
            "grid_template_rows": null,
            "right": null,
            "justify_content": null,
            "_view_module": "@jupyter-widgets/base",
            "overflow": null,
            "_model_module_version": "1.2.0",
            "_view_count": null,
            "flex_flow": null,
            "width": null,
            "min_width": null,
            "border": null,
            "align_items": null,
            "bottom": null,
            "_model_module": "@jupyter-widgets/base",
            "top": null,
            "grid_column": null,
            "overflow_y": null,
            "overflow_x": null,
            "grid_auto_flow": null,
            "grid_area": null,
            "grid_template_columns": null,
            "flex": null,
            "_model_name": "LayoutModel",
            "justify_items": null,
            "grid_row": null,
            "max_height": null,
            "align_content": null,
            "visibility": null,
            "align_self": null,
            "height": null,
            "min_height": null,
            "padding": null,
            "grid_auto_rows": null,
            "grid_gap": null,
            "max_width": null,
            "order": null,
            "_view_module_version": "1.2.0",
            "grid_template_areas": null,
            "object_position": null,
            "object_fit": null,
            "grid_auto_columns": null,
            "margin": null,
            "display": null,
            "left": null
          }
        },
        "8ddf0c63f3cc4f99b793fc2e414b0f0a": {
          "model_module": "@jupyter-widgets/controls",
          "model_name": "DescriptionStyleModel",
          "state": {
            "_view_name": "StyleView",
            "_model_name": "DescriptionStyleModel",
            "description_width": "",
            "_view_module": "@jupyter-widgets/base",
            "_model_module_version": "1.5.0",
            "_view_count": null,
            "_view_module_version": "1.2.0",
            "_model_module": "@jupyter-widgets/controls"
          }
        },
        "7a845223c1ad40ac90d7392efa07bd6a": {
          "model_module": "@jupyter-widgets/base",
          "model_name": "LayoutModel",
          "state": {
            "_view_name": "LayoutView",
            "grid_template_rows": null,
            "right": null,
            "justify_content": null,
            "_view_module": "@jupyter-widgets/base",
            "overflow": null,
            "_model_module_version": "1.2.0",
            "_view_count": null,
            "flex_flow": null,
            "width": null,
            "min_width": null,
            "border": null,
            "align_items": null,
            "bottom": null,
            "_model_module": "@jupyter-widgets/base",
            "top": null,
            "grid_column": null,
            "overflow_y": null,
            "overflow_x": null,
            "grid_auto_flow": null,
            "grid_area": null,
            "grid_template_columns": null,
            "flex": null,
            "_model_name": "LayoutModel",
            "justify_items": null,
            "grid_row": null,
            "max_height": null,
            "align_content": null,
            "visibility": null,
            "align_self": null,
            "height": null,
            "min_height": null,
            "padding": null,
            "grid_auto_rows": null,
            "grid_gap": null,
            "max_width": null,
            "order": null,
            "_view_module_version": "1.2.0",
            "grid_template_areas": null,
            "object_position": null,
            "object_fit": null,
            "grid_auto_columns": null,
            "margin": null,
            "display": null,
            "left": null
          }
        }
      }
    }
  },
  "cells": [
    {
      "cell_type": "markdown",
      "metadata": {
        "id": "view-in-github",
        "colab_type": "text"
      },
      "source": [
        "<a href=\"https://colab.research.google.com/github/prithvi-poddar/my_linear_regressors_assignment/blob/master/Prithvi_Poddar_17191_report_2_CNN.ipynb\" target=\"_parent\"><img src=\"https://colab.research.google.com/assets/colab-badge.svg\" alt=\"Open In Colab\"/></a>"
      ]
    },
    {
      "cell_type": "markdown",
      "metadata": {
        "id": "hCfDJioz3tg2",
        "colab_type": "text"
      },
      "source": [
        "# **Report 2**\n",
        "\n",
        "## **Prithvi Poddar 17191**\n"
      ]
    },
    {
      "cell_type": "markdown",
      "metadata": {
        "id": "Oj6COHX_3teu",
        "colab_type": "text"
      },
      "source": [
        "### In this report, we'll implement a simple Convolutional Neural Network and train it on the entire MNIST dataset so see the results."
      ]
    },
    {
      "cell_type": "markdown",
      "metadata": {
        "id": "I04q9jSM3tc2",
        "colab_type": "text"
      },
      "source": [
        "#### P.S. This notebook was created entirely in google colab as it provides GPU facility, so that the training can be faster. Thus, I had to mention all the classes wwithin the notebook itself as I cannot import classes from my local machine."
      ]
    },
    {
      "cell_type": "markdown",
      "metadata": {
        "id": "qBqe2noj3taQ",
        "colab_type": "text"
      },
      "source": [
        "We will be using PyTorch for this notebook"
      ]
    },
    {
      "cell_type": "markdown",
      "metadata": {
        "id": "wnQU76ch3tFR",
        "colab_type": "text"
      },
      "source": [
        "Run the next line if your computer doen't have pytorch installed. Otherwise you can skip it."
      ]
    },
    {
      "cell_type": "code",
      "metadata": {
        "id": "lUmc4GXkitaW",
        "colab_type": "code",
        "colab": {}
      },
      "source": [
        "!pip3 install torch torchvision"
      ],
      "execution_count": null,
      "outputs": []
    },
    {
      "cell_type": "code",
      "metadata": {
        "id": "b6e3TaiEi-A3",
        "colab_type": "code",
        "colab": {}
      },
      "source": [
        "import torch\n",
        "import numpy as np\n",
        "from torch import nn\n",
        "import torch.nn.functional as F\n",
        "from torchvision import datasets, transforms\n",
        "import matplotlib.pyplot as plt"
      ],
      "execution_count": 1,
      "outputs": []
    },
    {
      "cell_type": "code",
      "metadata": {
        "id": "OGd3zgEbjiuH",
        "colab_type": "code",
        "colab": {}
      },
      "source": [
        "device = torch.device(\"cuda:0\" if torch.cuda.is_available() else \"cpu\")"
      ],
      "execution_count": 2,
      "outputs": []
    },
    {
      "cell_type": "code",
      "metadata": {
        "id": "DW0hHseljYyN",
        "colab_type": "code",
        "colab": {
          "base_uri": "https://localhost:8080/",
          "height": 34
        },
        "outputId": "1827b9ae-bc75-46c4-beab-e4278b33e9df"
      },
      "source": [
        "device"
      ],
      "execution_count": 3,
      "outputs": [
        {
          "output_type": "execute_result",
          "data": {
            "text/plain": [
              "device(type='cuda', index=0)"
            ]
          },
          "metadata": {
            "tags": []
          },
          "execution_count": 3
        }
      ]
    },
    {
      "cell_type": "markdown",
      "metadata": {
        "id": "NARbIL2H8rDR",
        "colab_type": "text"
      },
      "source": [
        "Creating the transform function to convert the images into tensors that are readable by pytorch"
      ]
    },
    {
      "cell_type": "code",
      "metadata": {
        "id": "0BwLLqm4jsHH",
        "colab_type": "code",
        "colab": {}
      },
      "source": [
        "transform = transforms.Compose([transforms.ToTensor(), transforms.Normalize((0.5,),(0.5))])"
      ],
      "execution_count": 4,
      "outputs": []
    },
    {
      "cell_type": "markdown",
      "metadata": {
        "id": "DKXehECn8142",
        "colab_type": "text"
      },
      "source": [
        "Downloading the MNIST dataset from torchvision"
      ]
    },
    {
      "cell_type": "code",
      "metadata": {
        "id": "qk2uAz72kCck",
        "colab_type": "code",
        "colab": {
          "base_uri": "https://localhost:8080/",
          "height": 357,
          "referenced_widgets": [
            "d26984bb755043a385ba048166ab90e8",
            "a70e7f1d38344f618a84fa180eacabb6",
            "8dcb2d9a9dfb4c6db3870e8fb338e46d",
            "ea5c8b1cea794926bc8b1c1e048aec43",
            "0be12e87c10b426c810b69c8562f90d8",
            "17a38d47cfa1406cafebec461638ed64",
            "9ae4b723f7564903a84139a7c3b395b2",
            "1df3b0b4080948af9e6f6d3ff8aa04e9",
            "9788e1607fe641a6b1ac84e1c8d5b51a",
            "11bd6510d41942f395409a3dcf5d8438",
            "2adbaa8ae0434dff9ce112e513295452",
            "ccef30e072724c808937c43691d43e77",
            "f3efb2e59f114189939b3307680d15c6",
            "d59042d9299c41968cf45a58aa9124d1",
            "09d96bd9f3e74cfd89f6609b14881354",
            "e5977de8d1944c0d894edbc5caf4bf94",
            "ab5b22f8e840470297fb6ab1af38bbc4",
            "fd4f5bc934d64772afd26709cfa9648e",
            "13fa7a12ed01432d8c91637fb9af4fa5",
            "fc8eafbca2544d2f8ee9eb8ab44c8483",
            "f4056f37ef9c4134ac8a209afd738b9e",
            "94ad94b7ab154d9c9e05673600af9187",
            "3892c1d0a01d4d328e96312256e2618f",
            "5acf5f2a295e4513988e8c9784629ed6",
            "afe006bfc42e4272b5d068cf4f34e3d6",
            "e9108dbd716b4a92b6b2b0497f3d70cf",
            "f20e9d755058460bbdb7aae3b784ce89",
            "0638b4deb4654c3aa953921e4cc12c19",
            "2fba86f14d73477d828adbf5205f6fb6",
            "b03c9d6e19184f1f8307003837ac1935",
            "8ddf0c63f3cc4f99b793fc2e414b0f0a",
            "7a845223c1ad40ac90d7392efa07bd6a"
          ]
        },
        "outputId": "e5cb9cda-9388-4d9b-f99c-fa0c9daa939f"
      },
      "source": [
        "training_dataset = datasets.MNIST(root='./data', train=True, download=True, transform=transform)\n",
        "validation_dataset = datasets.MNIST(root='./data', train=False, download=True, transform=transform)"
      ],
      "execution_count": 5,
      "outputs": [
        {
          "output_type": "stream",
          "text": [
            "Downloading http://yann.lecun.com/exdb/mnist/train-images-idx3-ubyte.gz to ./data/MNIST/raw/train-images-idx3-ubyte.gz\n"
          ],
          "name": "stdout"
        },
        {
          "output_type": "display_data",
          "data": {
            "application/vnd.jupyter.widget-view+json": {
              "model_id": "d26984bb755043a385ba048166ab90e8",
              "version_minor": 0,
              "version_major": 2
            },
            "text/plain": [
              "HBox(children=(FloatProgress(value=1.0, bar_style='info', max=1.0), HTML(value='')))"
            ]
          },
          "metadata": {
            "tags": []
          }
        },
        {
          "output_type": "stream",
          "text": [
            "Extracting ./data/MNIST/raw/train-images-idx3-ubyte.gz to ./data/MNIST/raw\n",
            "Downloading http://yann.lecun.com/exdb/mnist/train-labels-idx1-ubyte.gz to ./data/MNIST/raw/train-labels-idx1-ubyte.gz\n"
          ],
          "name": "stdout"
        },
        {
          "output_type": "display_data",
          "data": {
            "application/vnd.jupyter.widget-view+json": {
              "model_id": "9788e1607fe641a6b1ac84e1c8d5b51a",
              "version_minor": 0,
              "version_major": 2
            },
            "text/plain": [
              "HBox(children=(FloatProgress(value=1.0, bar_style='info', max=1.0), HTML(value='')))"
            ]
          },
          "metadata": {
            "tags": []
          }
        },
        {
          "output_type": "stream",
          "text": [
            "Extracting ./data/MNIST/raw/train-labels-idx1-ubyte.gz to ./data/MNIST/raw\n",
            "Downloading http://yann.lecun.com/exdb/mnist/t10k-images-idx3-ubyte.gz to ./data/MNIST/raw/t10k-images-idx3-ubyte.gz\n"
          ],
          "name": "stdout"
        },
        {
          "output_type": "display_data",
          "data": {
            "application/vnd.jupyter.widget-view+json": {
              "model_id": "ab5b22f8e840470297fb6ab1af38bbc4",
              "version_minor": 0,
              "version_major": 2
            },
            "text/plain": [
              "HBox(children=(FloatProgress(value=1.0, bar_style='info', max=1.0), HTML(value='')))"
            ]
          },
          "metadata": {
            "tags": []
          }
        },
        {
          "output_type": "stream",
          "text": [
            "Extracting ./data/MNIST/raw/t10k-images-idx3-ubyte.gz to ./data/MNIST/raw\n",
            "Downloading http://yann.lecun.com/exdb/mnist/t10k-labels-idx1-ubyte.gz to ./data/MNIST/raw/t10k-labels-idx1-ubyte.gz\n"
          ],
          "name": "stdout"
        },
        {
          "output_type": "display_data",
          "data": {
            "application/vnd.jupyter.widget-view+json": {
              "model_id": "afe006bfc42e4272b5d068cf4f34e3d6",
              "version_minor": 0,
              "version_major": 2
            },
            "text/plain": [
              "HBox(children=(FloatProgress(value=1.0, bar_style='info', max=1.0), HTML(value='')))"
            ]
          },
          "metadata": {
            "tags": []
          }
        },
        {
          "output_type": "stream",
          "text": [
            "Extracting ./data/MNIST/raw/t10k-labels-idx1-ubyte.gz to ./data/MNIST/raw\n",
            "Processing...\n",
            "Done!\n"
          ],
          "name": "stdout"
        },
        {
          "output_type": "stream",
          "text": [
            "/pytorch/torch/csrc/utils/tensor_numpy.cpp:141: UserWarning: The given NumPy array is not writeable, and PyTorch does not support non-writeable tensors. This means you can write to the underlying (supposedly non-writeable) NumPy array using the tensor. You may want to copy the array to protect its data or make it writeable before converting it to a tensor. This type of warning will be suppressed for the rest of this program.\n"
          ],
          "name": "stderr"
        }
      ]
    },
    {
      "cell_type": "code",
      "metadata": {
        "id": "H_V_HHtokPzq",
        "colab_type": "code",
        "colab": {}
      },
      "source": [
        "training_loader = torch.utils.data.DataLoader(training_dataset, batch_size=100, shuffle=True)\n",
        "validation_loader = torch.utils.data.DataLoader(validation_dataset, batch_size = 100, shuffle=False)"
      ],
      "execution_count": 6,
      "outputs": []
    },
    {
      "cell_type": "markdown",
      "metadata": {
        "id": "17qPa6m29EH3",
        "colab_type": "text"
      },
      "source": [
        "Now we define the training function. We'll be using the Cross Entropy loss and the Adam optimizer."
      ]
    },
    {
      "cell_type": "code",
      "metadata": {
        "id": "QcL7fWwQ9IfP",
        "colab_type": "code",
        "colab": {}
      },
      "source": [
        "def train(model, epochs, learning_rate):\n",
        "  criterion = nn.CrossEntropyLoss()\n",
        "  optimizer = torch.optim.Adam(model.parameters(), lr=learning_rate)\n",
        "\n",
        "  training_losses=[]\n",
        "  training_accuracies=[]\n",
        "  test_losses=[]\n",
        "  test_accuracies=[]\n",
        "\n",
        "  for e in range(epochs):\n",
        "    training_loss = 0.0\n",
        "    training_accuracy = 0.0\n",
        "    test_loss = 0.0\n",
        "    test_accuracy = 0.0\n",
        "\n",
        "    for inputs, labels in training_loader:\n",
        "      inputs = inputs.to(device)\n",
        "      labels = labels.to(device)\n",
        "      outputs = model.forward(inputs)\n",
        "      loss = criterion(outputs, labels)\n",
        "      optimizer.zero_grad()\n",
        "      loss.backward()\n",
        "      optimizer.step()\n",
        "\n",
        "      _, preds = torch.max(outputs, 1) #returns the max value along axis 1 along with its index\n",
        "      training_loss += loss.item()\n",
        "      training_accuracy += torch.sum(preds==labels.data)\n",
        "\n",
        "    else:\n",
        "      with torch.no_grad():\n",
        "        for val_inputs, val_labels in validation_loader:\n",
        "          val_inputs = val_inputs.to(device)\n",
        "          val_labels = val_labels.to(device)\n",
        "          val_outputs = model.forward(val_inputs)\n",
        "          val_loss = criterion(val_outputs, val_labels)\n",
        "\n",
        "          _, val_preds = torch.max(val_outputs, 1)\n",
        "          test_loss += val_loss.item()\n",
        "          test_accuracy += torch.sum(val_preds == val_labels.data)\n",
        "\n",
        "      epoch_loss = training_loss/len(training_loader)\n",
        "      epoch_acc = training_accuracy.float()/ len(training_loader)\n",
        "      training_losses.append(epoch_loss)\n",
        "      training_accuracies.append(epoch_acc)\n",
        "\n",
        "      val_epoch_loss = test_loss/len(validation_loader)\n",
        "      val_epoch_acc = test_accuracy.float()/ len(validation_loader)\n",
        "      test_losses.append(val_epoch_loss)\n",
        "      test_accuracies.append(val_epoch_acc)\n",
        "      print('epoch :', (e+1))\n",
        "      print('training loss: {:.4f}, acc {:.4f} '.format(epoch_loss, epoch_acc.item()))\n",
        "      print('validation loss: {:.4f}, validation acc {:.4f} '.format(val_epoch_loss, val_epoch_acc.item()))\n",
        "    \n",
        "  return training_losses, training_accuracies, test_losses ,test_accuracies"
      ],
      "execution_count": 7,
      "outputs": []
    },
    {
      "cell_type": "markdown",
      "metadata": {
        "id": "k582D4W19PE2",
        "colab_type": "text"
      },
      "source": [
        "Defining the plotting function to plot the accuracies and losses later on"
      ]
    },
    {
      "cell_type": "code",
      "metadata": {
        "id": "PGps_PYH9PCL",
        "colab_type": "code",
        "colab": {}
      },
      "source": [
        "def plot_loss(training_losses, testing_losses):\n",
        "  plt.plot(training_losses, label='training loss')\n",
        "  plt.plot(testing_losses, label='testing loss')\n",
        "  plt.legend()"
      ],
      "execution_count": 8,
      "outputs": []
    },
    {
      "cell_type": "code",
      "metadata": {
        "id": "fgPlzN9M9O9d",
        "colab_type": "code",
        "colab": {}
      },
      "source": [
        "def plot_accuracy(training_accuracies, testing_accuracies):\n",
        "  plt.plot(training_accuracies, label='training accuracy')\n",
        "  plt.plot(testing_accuracies, label='testing accuracy')\n",
        "  plt.legend()"
      ],
      "execution_count": 9,
      "outputs": []
    },
    {
      "cell_type": "markdown",
      "metadata": {
        "id": "ajsQiO369lGE",
        "colab_type": "text"
      },
      "source": [
        "### Having defined the helping functions, we can now start forming our CNN module.\n",
        "#### Since, training takes substantial time, even when using a gpu, I'll be referring to the results from https://www.kaggle.com/cdeotte/how-to-choose-cnn-architecture-mnist \n",
        "#### In the above mentioned link, experiments have already been done to determine the optimum parameters for training on the MNIST data set"
      ]
    },
    {
      "cell_type": "markdown",
      "metadata": {
        "id": "ZIYOmyf09lDT",
        "colab_type": "text"
      },
      "source": [
        "For our model ,we'll have **2 convolutional layers**. The **first one with 32 filetrs and second one with 64 filters**. **Filter size will be 5 with stride=1** There will be **2 fully connected layers with 128 neurons in the first layer and 10 in the second layer** which will be the output layer. Activation function will be **RELU with softmax applied to the last layer**. Intermediate **max pooling will be done with kernel size=2 and strides=2. Dropout in the fully connected layer will be 0.4**"
      ]
    },
    {
      "cell_type": "markdown",
      "metadata": {
        "id": "B_IADcNX9k9z",
        "colab_type": "text"
      },
      "source": [
        "Important formulae that we'll need are:"
      ]
    },
    {
      "cell_type": "markdown",
      "metadata": {
        "id": "K5BNMy329k7N",
        "colab_type": "text"
      },
      "source": [
        "**Output height = ((height-kernel_size+2*padding)/stride)+1**\n",
        "\n",
        "**Output width = ((width-kernel_size+2*padding)/stride)+1**\n",
        "\n",
        "**We'll use max_pooling of size 2 and stride 2. This will simply half the size of the feature map, hence making our manual calculations easier**"
      ]
    },
    {
      "cell_type": "code",
      "metadata": {
        "id": "toIns6pV9Oyv",
        "colab_type": "code",
        "colab": {}
      },
      "source": [
        "class Network_CNN(nn.Module):\n",
        "    def __init__(self):\n",
        "      super().__init__()\n",
        "      self.conv1 = nn.Conv2d(1, 32, 5, 1)\n",
        "      self.conv2 = nn.Conv2d(32, 64, 5, 1)\n",
        "      self.fc1 = nn.Linear(4*4*64, 500)\n",
        "      self.dropout1 = nn.Dropout(0.4)\n",
        "      self.fc2 = nn.Linear(500, 10)\n",
        "    def forward(self, x):\n",
        "      x = F.relu(self.conv1(x))\n",
        "      x = F.max_pool2d(x, 2, 2)\n",
        "      x = F.relu(self.conv2(x))\n",
        "      x = F.max_pool2d(x, 2, 2)\n",
        "      x = x.view(-1, 4*4*64)\n",
        "      x = F.relu(self.fc1(x))\n",
        "      x = self.dropout1(x)\n",
        "      x = F.softmax(self.fc2(x), dim=1)\n",
        "      return x\n",
        "\n",
        "    def visualize(self, x):\n",
        "      a = F.relu(self.conv1(x))\n",
        "      b = F.max_pool2d(a, 2, 2)\n",
        "      c = F.relu(self.conv2(b))\n",
        "      d = F.max_pool2d(c, 2, 2)\n",
        "      return a, b, c, d"
      ],
      "execution_count": 10,
      "outputs": []
    },
    {
      "cell_type": "code",
      "metadata": {
        "id": "kjBaj6aGkFfa",
        "colab_type": "code",
        "colab": {
          "base_uri": "https://localhost:8080/",
          "height": 139
        },
        "outputId": "37a4a219-88fd-4c4b-ba63-b102c503e208"
      },
      "source": [
        "model = Network_CNN().to(device)\n",
        "model"
      ],
      "execution_count": 11,
      "outputs": [
        {
          "output_type": "execute_result",
          "data": {
            "text/plain": [
              "Network_CNN(\n",
              "  (conv1): Conv2d(1, 32, kernel_size=(5, 5), stride=(1, 1))\n",
              "  (conv2): Conv2d(32, 64, kernel_size=(5, 5), stride=(1, 1))\n",
              "  (fc1): Linear(in_features=1024, out_features=500, bias=True)\n",
              "  (dropout1): Dropout(p=0.4, inplace=False)\n",
              "  (fc2): Linear(in_features=500, out_features=10, bias=True)\n",
              ")"
            ]
          },
          "metadata": {
            "tags": []
          },
          "execution_count": 11
        }
      ]
    },
    {
      "cell_type": "code",
      "metadata": {
        "id": "XxFgBREOkFV-",
        "colab_type": "code",
        "colab": {
          "base_uri": "https://localhost:8080/",
          "height": 1000
        },
        "outputId": "719750e7-c562-402f-d431-a43b593ae455"
      },
      "source": [
        "training_losses, training_accuracies, test_losses, test_accuracies = train(model, 50, 0.0001)"
      ],
      "execution_count": 12,
      "outputs": [
        {
          "output_type": "stream",
          "text": [
            "epoch : 1\n",
            "training loss: 1.6740, acc 82.4383 \n",
            "validation loss: 1.5233, validation acc 94.5700 \n",
            "epoch : 2\n",
            "training loss: 1.5132, acc 95.5450 \n",
            "validation loss: 1.4992, validation acc 96.7700 \n",
            "epoch : 3\n",
            "training loss: 1.4975, acc 96.8550 \n",
            "validation loss: 1.4892, validation acc 97.6100 \n",
            "epoch : 4\n",
            "training loss: 1.4887, acc 97.5900 \n",
            "validation loss: 1.4865, validation acc 97.7100 \n",
            "epoch : 5\n",
            "training loss: 1.4851, acc 97.8933 \n",
            "validation loss: 1.4812, validation acc 98.3000 \n",
            "epoch : 6\n",
            "training loss: 1.4818, acc 98.1717 \n",
            "validation loss: 1.4789, validation acc 98.4100 \n",
            "epoch : 7\n",
            "training loss: 1.4793, acc 98.3817 \n",
            "validation loss: 1.4776, validation acc 98.5000 \n",
            "epoch : 8\n",
            "training loss: 1.4776, acc 98.5467 \n",
            "validation loss: 1.4775, validation acc 98.4700 \n",
            "epoch : 9\n",
            "training loss: 1.4760, acc 98.6900 \n",
            "validation loss: 1.4750, validation acc 98.8600 \n",
            "epoch : 10\n",
            "training loss: 1.4743, acc 98.8600 \n",
            "validation loss: 1.4747, validation acc 98.7600 \n",
            "epoch : 11\n",
            "training loss: 1.4739, acc 98.8900 \n",
            "validation loss: 1.4744, validation acc 98.8800 \n",
            "epoch : 12\n",
            "training loss: 1.4727, acc 98.9783 \n",
            "validation loss: 1.4738, validation acc 98.8300 \n",
            "epoch : 13\n",
            "training loss: 1.4723, acc 98.9950 \n",
            "validation loss: 1.4731, validation acc 98.9000 \n",
            "epoch : 14\n",
            "training loss: 1.4711, acc 99.1150 \n",
            "validation loss: 1.4736, validation acc 98.8700 \n",
            "epoch : 15\n",
            "training loss: 1.4704, acc 99.1850 \n",
            "validation loss: 1.4717, validation acc 99.0200 \n",
            "epoch : 16\n",
            "training loss: 1.4700, acc 99.2300 \n",
            "validation loss: 1.4723, validation acc 98.9800 \n",
            "epoch : 17\n",
            "training loss: 1.4689, acc 99.3133 \n",
            "validation loss: 1.4713, validation acc 99.0600 \n",
            "epoch : 18\n",
            "training loss: 1.4693, acc 99.2733 \n",
            "validation loss: 1.4711, validation acc 99.1000 \n",
            "epoch : 19\n",
            "training loss: 1.4683, acc 99.3767 \n",
            "validation loss: 1.4708, validation acc 99.0500 \n",
            "epoch : 20\n",
            "training loss: 1.4682, acc 99.3850 \n",
            "validation loss: 1.4717, validation acc 99.0200 \n",
            "epoch : 21\n",
            "training loss: 1.4679, acc 99.4067 \n",
            "validation loss: 1.4707, validation acc 99.1100 \n",
            "epoch : 22\n",
            "training loss: 1.4675, acc 99.4367 \n",
            "validation loss: 1.4705, validation acc 99.1300 \n",
            "epoch : 23\n",
            "training loss: 1.4671, acc 99.4983 \n",
            "validation loss: 1.4710, validation acc 99.0800 \n",
            "epoch : 24\n",
            "training loss: 1.4668, acc 99.5150 \n",
            "validation loss: 1.4720, validation acc 99.0000 \n",
            "epoch : 25\n",
            "training loss: 1.4667, acc 99.5133 \n",
            "validation loss: 1.4701, validation acc 99.1800 \n",
            "epoch : 26\n",
            "training loss: 1.4665, acc 99.5233 \n",
            "validation loss: 1.4692, validation acc 99.2800 \n",
            "epoch : 27\n",
            "training loss: 1.4660, acc 99.5817 \n",
            "validation loss: 1.4706, validation acc 99.0500 \n",
            "epoch : 28\n",
            "training loss: 1.4660, acc 99.5717 \n",
            "validation loss: 1.4701, validation acc 99.1400 \n",
            "epoch : 29\n",
            "training loss: 1.4656, acc 99.6117 \n",
            "validation loss: 1.4700, validation acc 99.1600 \n",
            "epoch : 30\n",
            "training loss: 1.4657, acc 99.6067 \n",
            "validation loss: 1.4705, validation acc 99.1000 \n",
            "epoch : 31\n",
            "training loss: 1.4654, acc 99.6317 \n",
            "validation loss: 1.4702, validation acc 99.1200 \n",
            "epoch : 32\n",
            "training loss: 1.4651, acc 99.6567 \n",
            "validation loss: 1.4702, validation acc 99.1500 \n",
            "epoch : 33\n",
            "training loss: 1.4651, acc 99.6633 \n",
            "validation loss: 1.4704, validation acc 99.1200 \n",
            "epoch : 34\n",
            "training loss: 1.4650, acc 99.6583 \n",
            "validation loss: 1.4693, validation acc 99.2600 \n",
            "epoch : 35\n",
            "training loss: 1.4648, acc 99.6883 \n",
            "validation loss: 1.4692, validation acc 99.2200 \n",
            "epoch : 36\n",
            "training loss: 1.4648, acc 99.6833 \n",
            "validation loss: 1.4696, validation acc 99.1900 \n",
            "epoch : 37\n",
            "training loss: 1.4646, acc 99.7050 \n",
            "validation loss: 1.4693, validation acc 99.2000 \n",
            "epoch : 38\n",
            "training loss: 1.4644, acc 99.7200 \n",
            "validation loss: 1.4692, validation acc 99.2300 \n",
            "epoch : 39\n",
            "training loss: 1.4642, acc 99.7433 \n",
            "validation loss: 1.4692, validation acc 99.2300 \n",
            "epoch : 40\n",
            "training loss: 1.4642, acc 99.7217 \n",
            "validation loss: 1.4706, validation acc 99.0600 \n",
            "epoch : 41\n",
            "training loss: 1.4639, acc 99.7650 \n",
            "validation loss: 1.4693, validation acc 99.2600 \n",
            "epoch : 42\n",
            "training loss: 1.4639, acc 99.7700 \n",
            "validation loss: 1.4696, validation acc 99.1700 \n",
            "epoch : 43\n",
            "training loss: 1.4640, acc 99.7483 \n",
            "validation loss: 1.4698, validation acc 99.1200 \n",
            "epoch : 44\n",
            "training loss: 1.4639, acc 99.7567 \n",
            "validation loss: 1.4695, validation acc 99.1600 \n",
            "epoch : 45\n",
            "training loss: 1.4639, acc 99.7633 \n",
            "validation loss: 1.4691, validation acc 99.2300 \n",
            "epoch : 46\n",
            "training loss: 1.4635, acc 99.7917 \n",
            "validation loss: 1.4695, validation acc 99.1600 \n",
            "epoch : 47\n",
            "training loss: 1.4636, acc 99.7800 \n",
            "validation loss: 1.4695, validation acc 99.2400 \n",
            "epoch : 48\n",
            "training loss: 1.4636, acc 99.7800 \n",
            "validation loss: 1.4700, validation acc 99.1300 \n",
            "epoch : 49\n",
            "training loss: 1.4635, acc 99.7933 \n",
            "validation loss: 1.4699, validation acc 99.1700 \n",
            "epoch : 50\n",
            "training loss: 1.4634, acc 99.7967 \n",
            "validation loss: 1.4692, validation acc 99.2000 \n"
          ],
          "name": "stdout"
        }
      ]
    },
    {
      "cell_type": "markdown",
      "metadata": {
        "id": "UKCzug-9sJ6a",
        "colab_type": "text"
      },
      "source": [
        "#### We get an accuracy of 99%, much more than what we achieved earlier using just fully connected linear neural networks"
      ]
    },
    {
      "cell_type": "code",
      "metadata": {
        "id": "2_1KA-90r7WN",
        "colab_type": "code",
        "colab": {
          "base_uri": "https://localhost:8080/",
          "height": 265
        },
        "outputId": "0d642f4e-eafe-49c7-a93f-d60c3bae76fc"
      },
      "source": [
        "plot_loss(training_losses, test_losses)"
      ],
      "execution_count": 13,
      "outputs": [
        {
          "output_type": "display_data",
          "data": {
            "image/png": "[encoded data removed]",
            "text/plain": [
              "<Figure size 432x288 with 1 Axes>"
            ]
          },
          "metadata": {
            "tags": [],
            "needs_background": "light"
          }
        }
      ]
    },
    {
      "cell_type": "code",
      "metadata": {
        "id": "snVuAQDXr7Kd",
        "colab_type": "code",
        "colab": {
          "base_uri": "https://localhost:8080/",
          "height": 265
        },
        "outputId": "6c6ed826-b1a6-4ba7-9293-29fcf867d544"
      },
      "source": [
        "plot_accuracy(training_accuracies, test_accuracies)"
      ],
      "execution_count": 14,
      "outputs": [
        {
          "output_type": "display_data",
          "data": {
            "image/png": "[encoded data removed]",
            "text/plain": [
              "<Figure size 432x288 with 1 Axes>"
            ]
          },
          "metadata": {
            "tags": [],
            "needs_background": "light"
          }
        }
      ]
    },
    {
      "cell_type": "markdown",
      "metadata": {
        "id": "I-vx0zW_sdkJ",
        "colab_type": "text"
      },
      "source": [
        "I had already done some pre-testing with the learning rate and it turned out that a slow learning rate provides a smoother accuracy curve as this network is quite complex in terms of the parameters to be learned"
      ]
    },
    {
      "cell_type": "markdown",
      "metadata": {
        "id": "v9rkzftJ0U3H",
        "colab_type": "text"
      },
      "source": [
        "### Now lets take a look at the indivisual concolutional layer outputs to try to visualize what the model is learning"
      ]
    },
    {
      "cell_type": "code",
      "metadata": {
        "id": "fHtD1w2ztajC",
        "colab_type": "code",
        "colab": {}
      },
      "source": [
        "data = iter(training_loader)\n",
        "images, labels = data.next()"
      ],
      "execution_count": 15,
      "outputs": []
    },
    {
      "cell_type": "code",
      "metadata": {
        "id": "uaJxgBdXtoAn",
        "colab_type": "code",
        "colab": {}
      },
      "source": [
        "def im_convert(tensor):\n",
        "  image = tensor.cpu().clone().detach().numpy()\n",
        "  image = image.transpose(1, 2, 0)\n",
        "  image = image * np.array((0.5, 0.5, 0.5)) + np.array((0.5, 0.5, 0.5))\n",
        "  image = image.clip(0, 1)\n",
        "  return image"
      ],
      "execution_count": 16,
      "outputs": []
    },
    {
      "cell_type": "code",
      "metadata": {
        "id": "GoYeuStR0SGh",
        "colab_type": "code",
        "colab": {}
      },
      "source": [
        "def filter_convert(tensor):\n",
        "  image = tensor.cpu().clone().detach().numpy()\n",
        "  image = image.clip(0, 1)\n",
        "  return image"
      ],
      "execution_count": 31,
      "outputs": []
    },
    {
      "cell_type": "code",
      "metadata": {
        "id": "eprHDxTlttgq",
        "colab_type": "code",
        "colab": {
          "base_uri": "https://localhost:8080/",
          "height": 190
        },
        "outputId": "cb3e29d5-cc13-4529-f792-444632b86ae4"
      },
      "source": [
        "fig = plt.figure(figsize=(2, 2))\n",
        "plt.imshow(im_convert(images[3]))\n",
        "plt.title(str(labels[3].item()))"
      ],
      "execution_count": 23,
      "outputs": [
        {
          "output_type": "execute_result",
          "data": {
            "text/plain": [
              "Text(0.5, 1.0, '5')"
            ]
          },
          "metadata": {
            "tags": []
          },
          "execution_count": 23
        },
        {
          "output_type": "display_data",
          "data": {
            "image/png": "[encoded data removed]",
            "text/plain": [
              "<Figure size 144x144 with 1 Axes>"
            ]
          },
          "metadata": {
            "tags": [],
            "needs_background": "light"
          }
        }
      ]
    },
    {
      "cell_type": "markdown",
      "metadata": {
        "id": "gxpfBhqt8TpT",
        "colab_type": "text"
      },
      "source": [
        "So this will be the input to our network i.e. the image of '5'"
      ]
    },
    {
      "cell_type": "code",
      "metadata": {
        "id": "KG2GUaNnwr0r",
        "colab_type": "code",
        "colab": {}
      },
      "source": [
        "a, b, c, d = model.visualize(images.to(device))"
      ],
      "execution_count": 19,
      "outputs": []
    },
    {
      "cell_type": "markdown",
      "metadata": {
        "id": "jK94vpOM8b_O",
        "colab_type": "text"
      },
      "source": [
        "### Looking at the output of Conv. Layer 1"
      ]
    },
    {
      "cell_type": "code",
      "metadata": {
        "id": "qmYwtSDvyJWL",
        "colab_type": "code",
        "colab": {
          "base_uri": "https://localhost:8080/",
          "height": 237
        },
        "outputId": "d5629bc7-5502-4c3c-d5f9-1942e1d6cbe1"
      },
      "source": [
        "fig = plt.figure(figsize=(25, 4))\n",
        "for idx in np.arange(20):\n",
        "  ax = fig.add_subplot(2, 10, idx+1, xticks=[], yticks=[])\n",
        "  plt.imshow(filter_convert(a[3][idx]))"
      ],
      "execution_count": 32,
      "outputs": [
        {
          "output_type": "display_data",
          "data": {
            "image/png": "[encoded data removed]",
            "text/plain": [
              "<Figure size 1800x288 with 20 Axes>"
            ]
          },
          "metadata": {
            "tags": []
          }
        }
      ]
    },
    {
      "cell_type": "markdown",
      "metadata": {
        "id": "US_sF-Ll8k9r",
        "colab_type": "text"
      },
      "source": [
        "### Output of the max pool of Conv Layer 1"
      ]
    },
    {
      "cell_type": "code",
      "metadata": {
        "id": "ZropjS_ezEdG",
        "colab_type": "code",
        "colab": {
          "base_uri": "https://localhost:8080/",
          "height": 237
        },
        "outputId": "357b0969-7e9d-4350-e97d-cbcdf9ee95e6"
      },
      "source": [
        "fig = plt.figure(figsize=(25, 4))\n",
        "for idx in np.arange(20):\n",
        "  ax = fig.add_subplot(2, 10, idx+1, xticks=[], yticks=[])\n",
        "  plt.imshow(filter_convert(b[3][idx]))"
      ],
      "execution_count": 26,
      "outputs": [
        {
          "output_type": "display_data",
          "data": {
            "image/png": "[encoded data removed]",
            "text/plain": [
              "<Figure size 1800x288 with 20 Axes>"
            ]
          },
          "metadata": {
            "tags": []
          }
        }
      ]
    },
    {
      "cell_type": "markdown",
      "metadata": {
        "id": "_w2U9tHX8qgi",
        "colab_type": "text"
      },
      "source": [
        "### Output of Conv Layer 2"
      ]
    },
    {
      "cell_type": "code",
      "metadata": {
        "id": "dhHFxvBf7in9",
        "colab_type": "code",
        "colab": {
          "base_uri": "https://localhost:8080/",
          "height": 237
        },
        "outputId": "c67e8348-e7fa-4c64-b74b-af160f440a7e"
      },
      "source": [
        "fig = plt.figure(figsize=(25, 4))\n",
        "for idx in np.arange(20):\n",
        "  ax = fig.add_subplot(2, 10, idx+1, xticks=[], yticks=[])\n",
        "  plt.imshow(filter_convert(c[3][idx]))"
      ],
      "execution_count": 27,
      "outputs": [
        {
          "output_type": "display_data",
          "data": {
            "image/png": "[encoded data removed]",
            "text/plain": [
              "<Figure size 1800x288 with 20 Axes>"
            ]
          },
          "metadata": {
            "tags": []
          }
        }
      ]
    },
    {
      "cell_type": "markdown",
      "metadata": {
        "id": "lPdb86q68t-H",
        "colab_type": "text"
      },
      "source": [
        "### Output of max pool of Conv Layer 2"
      ]
    },
    {
      "cell_type": "code",
      "metadata": {
        "id": "VPScyyFa7kby",
        "colab_type": "code",
        "colab": {
          "base_uri": "https://localhost:8080/",
          "height": 237
        },
        "outputId": "7c4b5e89-2fae-4b2e-b208-e309f962167a"
      },
      "source": [
        "fig = plt.figure(figsize=(25, 4))\n",
        "for idx in np.arange(20):\n",
        "  ax = fig.add_subplot(2, 10, idx+1, xticks=[], yticks=[])\n",
        "  plt.imshow(filter_convert(d[3][idx]))"
      ],
      "execution_count": 28,
      "outputs": [
        {
          "output_type": "display_data",
          "data": {
            "image/png": "[encoded data removed]",
            "text/plain": [
              "<Figure size 1800x288 with 20 Axes>"
            ]
          },
          "metadata": {
            "tags": []
          }
        }
      ]
    },
    {
      "cell_type": "markdown",
      "metadata": {
        "id": "GmdJPUIi7mk4",
        "colab_type": "text"
      },
      "source": [
        "## Analysis of the above filter images"
      ]
    },
    {
      "cell_type": "markdown",
      "metadata": {
        "id": "wGj0cAQe84qa",
        "colab_type": "text"
      },
      "source": [
        "### We can see that the 1st Conv Layer grabs the entire image of 5 as a whole along with the major curves and dashes"
      ]
    },
    {
      "cell_type": "markdown",
      "metadata": {
        "id": "rTj7e5Zv9Ooq",
        "colab_type": "text"
      },
      "source": [
        "### The second Conv Layer grabs the smaller curves and bends that are specific to only the number 5"
      ]
    },
    {
      "cell_type": "markdown",
      "metadata": {
        "id": "cLwZRO6W9aK3",
        "colab_type": "text"
      },
      "source": [
        "### At the end, the number 5 is just a superposition of these curves and dashes and hence the network is able to recognize it!!"
      ]
    },
    {
      "cell_type": "code",
      "metadata": {
        "id": "Nj_aK8et9mmV",
        "colab_type": "code",
        "colab": {}
      },
      "source": [
        ""
      ],
      "execution_count": null,
      "outputs": []
    }
  ]
}